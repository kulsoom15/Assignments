{
  "nbformat": 4,
  "nbformat_minor": 0,
  "metadata": {
    "colab": {
      "provenance": [],
      "authorship_tag": "ABX9TyOfuh0w2DLr1zfPVVMOWn21",
      "include_colab_link": true
    },
    "kernelspec": {
      "name": "python3",
      "display_name": "Python 3"
    },
    "language_info": {
      "name": "python"
    }
  },
  "cells": [
    {
      "cell_type": "markdown",
      "metadata": {
        "id": "view-in-github",
        "colab_type": "text"
      },
      "source": [
        "<a href=\"https://colab.research.google.com/github/kulsoom15/Assignments/blob/main/01_expressions.ipynb\" target=\"_parent\"><img src=\"https://colab.research.google.com/assets/colab-badge.svg\" alt=\"Open In Colab\"/></a>"
      ]
    },
    {
      "cell_type": "code",
      "execution_count": 2,
      "metadata": {
        "colab": {
          "base_uri": "https://localhost:8080/"
        },
        "id": "QXxOkZQZThxu",
        "outputId": "11285029-738a-4a39-bd83-6b6da4d9b8c0"
      },
      "outputs": [
        {
          "output_type": "stream",
          "name": "stdout",
          "text": [
            "01_dicesimulator\n",
            "die1 in main() starts as: 15\n",
            "Total of two dice: 7\n",
            "Total of two dice: 6\n",
            "Total of two dice: 7\n",
            "die1 in main() is: 15\n"
          ]
        }
      ],
      "source": [
        "import random\n",
        "print(\"01_dicesimulator\")\n",
        "NUM_SIDES = 6\n",
        "\n",
        "def roll_dice():\n",
        "    \"\"\"\n",
        "    Simulates rolling two dice and prints their total\n",
        "    \"\"\"\n",
        "    die1 = random.randint(1, NUM_SIDES)\n",
        "    die2 = random.randint(2, NUM_SIDES)\n",
        "    total = die1 + die2\n",
        "    print(\"Total of two dice:\", total)\n",
        "\n",
        "def main():\n",
        "    die1 = 15\n",
        "    print(\"die1 in main() starts as:\", die1)\n",
        "    roll_dice()\n",
        "    roll_dice()\n",
        "    roll_dice()\n",
        "    print(\"die1 in main() is:\", die1)\n",
        "\n",
        "\n",
        "if __name__ == '__main__':\n",
        "    main()"
      ]
    },
    {
      "cell_type": "code",
      "source": [
        "print(\"02_e=mc2\")\n",
        "def calculate_energy():\n",
        "\n",
        "    C = 299792458\n",
        "\n",
        "\n",
        "    mass = float(input(\"Enter kilos of mass: \"))\n",
        "\n",
        "    energy = mass * C**2\n",
        "\n",
        "    print(\"e = m * C^2...\")\n",
        "    print(f\"m = {mass} kg\")\n",
        "    print(f\"C = {C} m/s\")\n",
        "    print(f\"{energy} joules of energy!\")\n",
        "\n",
        "calculate_energy()\n"
      ],
      "metadata": {
        "colab": {
          "base_uri": "https://localhost:8080/"
        },
        "id": "hLz_UEzAVHgN",
        "outputId": "edd51753-dc9f-4885-e1ae-330c1956a355"
      },
      "execution_count": 3,
      "outputs": [
        {
          "output_type": "stream",
          "name": "stdout",
          "text": [
            "02_e=mc2\n",
            "Enter kilos of mass: 300\n",
            "e = m * C^2...\n",
            "m = 300.0 kg\n",
            "C = 299792458 m/s\n",
            "2.696265536210453e+19 joules of energy!\n"
          ]
        }
      ]
    },
    {
      "cell_type": "code",
      "source": [
        "print(\"03_feet_to_inches\")\n",
        "def main():\n",
        "    feet = float(input(\"Enter the length in feet: \"))\n",
        "\n",
        "    inches = feet * 12\n",
        "\n",
        "    print(f\"{feet} feet is equal to {inches} inches.\")\n",
        "\n",
        "if __name__ == '__main__':\n",
        "    main()\n"
      ],
      "metadata": {
        "colab": {
          "base_uri": "https://localhost:8080/"
        },
        "id": "HGs19QRAVr91",
        "outputId": "dc0f1410-9ff1-4f61-e544-462cdb65dac8"
      },
      "execution_count": 4,
      "outputs": [
        {
          "output_type": "stream",
          "name": "stdout",
          "text": [
            "03_feet_to_inches\n",
            "Enter the length in feet: 45\n",
            "45.0 feet is equal to 540.0 inches.\n"
          ]
        }
      ]
    },
    {
      "cell_type": "code",
      "source": [
        "print(\"04_pythagorean_theorem\")\n",
        "import math\n",
        "\n",
        "def main():\n",
        "\n",
        "    AB = float(input(\"Enter the length of AB: \"))\n",
        "    AC = float(input(\"Enter the length of AC: \"))\n",
        "\n",
        "\n",
        "    BC = math.sqrt(AB**2 + AC**2)\n",
        "\n",
        "    print(f\"The length of BC (the hypotenuse) is: {BC}\")\n",
        "\n",
        "if __name__ == '__main__':\n",
        "    main()"
      ],
      "metadata": {
        "colab": {
          "base_uri": "https://localhost:8080/"
        },
        "id": "20eI3TvZWIXB",
        "outputId": "579520d6-d432-407d-fc1d-9bdf182f5023"
      },
      "execution_count": 5,
      "outputs": [
        {
          "output_type": "stream",
          "name": "stdout",
          "text": [
            "04_pythagorean_theorem\n",
            "Enter the length of AB: 20\n",
            "Enter the length of AC: 15\n",
            "The length of BC (the hypotenuse) is: 25.0\n"
          ]
        }
      ]
    },
    {
      "cell_type": "code",
      "source": [
        "print(\"05_remainder_division\")\n",
        "def main():\n",
        "\n",
        "    num1 = int(input(\"Please enter an integer to be divided: \"))\n",
        "    num2 = int(input(\"Please enter an integer to divide by: \"))\n",
        "\n",
        "\n",
        "    quotient = num1 // num2\n",
        "    remainder = num1 % num2\n",
        "\n",
        "    print(f\"The result of this division is {quotient} with a remainder of {remainder}\")\n",
        "\n",
        "if __name__ == \"__main__\":\n",
        "    main()"
      ],
      "metadata": {
        "colab": {
          "base_uri": "https://localhost:8080/"
        },
        "id": "qBUAUKMWWv93",
        "outputId": "c3161c53-2b5a-4760-9c2f-d72c6006021b"
      },
      "execution_count": 6,
      "outputs": [
        {
          "output_type": "stream",
          "name": "stdout",
          "text": [
            "05_remainder_division\n",
            "Please enter an integer to be divided: 7\n",
            "Please enter an integer to divide by: 3\n",
            "The result of this division is 2 with a remainder of 1\n"
          ]
        }
      ]
    },
    {
      "cell_type": "code",
      "source": [
        "print(\"06_rolldice.\")\n",
        "import random\n",
        "\n",
        "def main():\n",
        "\n",
        "    die1 = random.randint(1, 6)\n",
        "    die2 = random.randint(1, 6)\n",
        "\n",
        "    total = die1 + die2\n",
        "\n",
        "\n",
        "    print(f\"First roll: {die1}\")\n",
        "    print(f\"Second roll: {die2}\")\n",
        "    print(f\"Total: {total}\")\n",
        "\n",
        "if __name__ == '__main__':\n",
        "    main()"
      ],
      "metadata": {
        "colab": {
          "base_uri": "https://localhost:8080/"
        },
        "id": "_NZippVnXTYe",
        "outputId": "8b9ce9d3-0bc5-4729-bc2f-044b8dcefa74"
      },
      "execution_count": 7,
      "outputs": [
        {
          "output_type": "stream",
          "name": "stdout",
          "text": [
            "06_rolldice.\n",
            "First roll: 2\n",
            "Second roll: 3\n",
            "Total: 5\n"
          ]
        }
      ]
    },
    {
      "cell_type": "code",
      "source": [
        "print(\"06_seconds_in_year\")\n",
        "def main():\n",
        "\n",
        "    DAYS_IN_YEAR = 365\n",
        "    HOURS_IN_DAY = 24\n",
        "    MINUTES_IN_HOUR = 60\n",
        "    SECONDS_IN_MINUTE = 60\n",
        "\n",
        "    seconds_in_year = DAYS_IN_YEAR * HOURS_IN_DAY * MINUTES_IN_HOUR * SECONDS_IN_MINUTE\n",
        "\n",
        "\n",
        "    print(f\"There are {seconds_in_year} seconds in a year!\")\n",
        "\n",
        "\n",
        "if __name__ == \"__main__\":\n",
        "    main()\n"
      ],
      "metadata": {
        "colab": {
          "base_uri": "https://localhost:8080/"
        },
        "id": "PfQT0aJXXyFy",
        "outputId": "3227dd8f-49ee-42e5-8cb1-5b63f4686ef8"
      },
      "execution_count": 8,
      "outputs": [
        {
          "output_type": "stream",
          "name": "stdout",
          "text": [
            "06_seconds_in_year\n",
            "There are 31536000 seconds in a year!\n"
          ]
        }
      ]
    },
    {
      "cell_type": "code",
      "source": [
        "print(\"7_tiny_mad_lib\")\n",
        "def main():\n",
        "\n",
        "    adjective = input(\"Please type an adjective and press enter: \")\n",
        "    noun = input(\"Please type a noun and press enter: \")\n",
        "    verb = input(\"Please type a verb and press enter: \")\n",
        "\n",
        "    sentence = f\"Code in Place is fun. I learned to program and used Python to make my {adjective} {noun} {verb}!\"\n",
        "\n",
        "\n",
        "    print(sentence)\n",
        "\n",
        "\n",
        "if __name__ == \"__main__\":\n",
        "    main()\n"
      ],
      "metadata": {
        "colab": {
          "base_uri": "https://localhost:8080/"
        },
        "id": "saKGVm5FYWYt",
        "outputId": "30a13c03-9d0c-421c-e25a-bab6c1151083"
      },
      "execution_count": 9,
      "outputs": [
        {
          "output_type": "stream",
          "name": "stdout",
          "text": [
            "7_tiny_mad_lib\n",
            "Please type an adjective and press enter: tiny\n",
            "Please type a noun and press enter: insects\n",
            "Please type a verb and press enter: fly\n",
            "Code in Place is fun. I learned to program and used Python to make my tiny insects fly!\n"
          ]
        }
      ]
    }
  ]
}