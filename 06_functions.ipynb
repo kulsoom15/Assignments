{
  "nbformat": 4,
  "nbformat_minor": 0,
  "metadata": {
    "colab": {
      "provenance": [],
      "authorship_tag": "ABX9TyPrF+5BmeF7/SuXFa7m+7Ao",
      "include_colab_link": true
    },
    "kernelspec": {
      "name": "python3",
      "display_name": "Python 3"
    },
    "language_info": {
      "name": "python"
    }
  },
  "cells": [
    {
      "cell_type": "markdown",
      "metadata": {
        "id": "view-in-github",
        "colab_type": "text"
      },
      "source": [
        "<a href=\"https://colab.research.google.com/github/kulsoom15/Assignments/blob/main/06_functions.ipynb\" target=\"_parent\"><img src=\"https://colab.research.google.com/assets/colab-badge.svg\" alt=\"Open In Colab\"/></a>"
      ]
    },
    {
      "cell_type": "code",
      "execution_count": 1,
      "metadata": {
        "colab": {
          "base_uri": "https://localhost:8080/"
        },
        "id": "gQ-oA_MD-CCF",
        "outputId": "b6ac4866-5d7c-46bd-f189-5cf9fa0b900f"
      },
      "outputs": [
        {
          "output_type": "stream",
          "name": "stdout",
          "text": [
            "00_averages\n",
            "Enter numbers separated by commas:\n",
            "→ 44,82\n",
            "✅ Average of the given numbers: 63.00\n"
          ]
        }
      ],
      "source": [
        "print(\"00_averages\")\n",
        "def calculate_average(numbers):\n",
        "    if not numbers:\n",
        "        return 0\n",
        "    return sum(numbers) / len(numbers)\n",
        "\n",
        "def main():\n",
        "    print(\"Enter numbers separated by commas:\")\n",
        "    user_input = input(\"→ \")\n",
        "\n",
        "    # Convert string input to list of numbers\n",
        "    try:\n",
        "        number_list = [float(num.strip()) for num in user_input.split(\",\")]\n",
        "    except ValueError:\n",
        "        print(\"❌ Invalid input! Please enter valid numbers separated by commas.\")\n",
        "        return\n",
        "\n",
        "    avg = calculate_average(number_list)\n",
        "    print(f\"✅ Average of the given numbers: {avg:.2f}\")\n",
        "\n",
        "if __name__ == \"__main__\":\n",
        "    main()"
      ]
    },
    {
      "cell_type": "code",
      "source": [
        "\n",
        "import random\n",
        "import time\n",
        "\n",
        "print(\"01_chaotic_countin\")\n",
        "def chaotic_counting(start, end, delay=0.5):\n",
        "    numbers = list(range(start, end + 1))\n",
        "    random.shuffle(numbers)  # Random order\n",
        "\n",
        "    print(\"🤪 Chaotic Counting Begins!\")\n",
        "    for number in numbers:\n",
        "        print(number)\n",
        "        time.sleep(delay)  # Small delay for effect\n",
        "    print(\"🎉 Done with chaotic counting!\")\n",
        "\n",
        "def main():\n",
        "    print(\"Enter start and end numbers for chaotic counting.\")\n",
        "    try:\n",
        "        start = int(input(\"Start → \"))\n",
        "        end = int(input(\"End → \"))\n",
        "\n",
        "        if start > end:\n",
        "            print(\"❌ Start should be less than or equal to end!\")\n",
        "            return\n",
        "\n",
        "        chaotic_counting(start, end)\n",
        "    except ValueError:\n",
        "        print(\"❌ Invalid input! Please enter integers only.\")\n",
        "\n",
        "if __name__ == \"__main__\":\n",
        "    main()"
      ],
      "metadata": {
        "colab": {
          "base_uri": "https://localhost:8080/"
        },
        "id": "o53Uzy7vE75L",
        "outputId": "20eb733b-0e0d-4e8c-a960-9b47cbcf2b8f"
      },
      "execution_count": 3,
      "outputs": [
        {
          "output_type": "stream",
          "name": "stdout",
          "text": [
            "01_chaotic_countin\n",
            "Enter start and end numbers for chaotic counting.\n",
            "Start → 1\n",
            "End → 20\n",
            "🤪 Chaotic Counting Begins!\n",
            "1\n",
            "20\n",
            "16\n",
            "11\n",
            "4\n",
            "5\n",
            "12\n",
            "15\n",
            "8\n",
            "14\n",
            "6\n",
            "18\n",
            "13\n",
            "7\n",
            "19\n",
            "10\n",
            "2\n",
            "3\n",
            "9\n",
            "17\n",
            "🎉 Done with chaotic counting!\n"
          ]
        }
      ]
    },
    {
      "cell_type": "code",
      "source": [
        "print(\"02_count_even\")\n",
        "def count_even_numbers(numbers):\n",
        "    even_numbers = [num for num in numbers if num % 2 == 0]\n",
        "    return len(even_numbers), even_numbers\n",
        "\n",
        "def main():\n",
        "    print(\"Enter numbers separated by commas:\")\n",
        "    user_input = input(\"→ \")\n",
        "\n",
        "    try:\n",
        "        number_list = [int(num.strip()) for num in user_input.split(\",\")]\n",
        "    except ValueError:\n",
        "        print(\"❌ Invalid input! Please enter integers only.\")\n",
        "        return\n",
        "\n",
        "    count, evens = count_even_numbers(number_list)\n",
        "    print(f\"✅ Total even numbers: {count}\")\n",
        "    print(f\"Even numbers: {evens}\")\n",
        "\n",
        "if __name__ == \"__main__\":\n",
        "    main()"
      ],
      "metadata": {
        "colab": {
          "base_uri": "https://localhost:8080/"
        },
        "id": "sfi-OohFFZmA",
        "outputId": "e18ca24c-5119-4fec-f0a5-9fed2b70cb61"
      },
      "execution_count": 4,
      "outputs": [
        {
          "output_type": "stream",
          "name": "stdout",
          "text": [
            "02_count_even\n",
            "Enter numbers separated by commas:\n",
            "→ 1,2,3,4,5,6,7,8,9,10\n",
            "✅ Total even numbers: 5\n",
            "Even numbers: [2, 4, 6, 8, 10]\n"
          ]
        }
      ]
    },
    {
      "cell_type": "code",
      "source": [
        "print(\"04_double\")\n",
        "\n",
        "def double_numbers(numbers):\n",
        "    return [num * 2 for num in numbers]\n",
        "\n",
        "def main():\n",
        "    print(\"Enter numbers separated by commas to double them:\")\n",
        "    user_input = input(\"→ \")\n",
        "\n",
        "    try:\n",
        "        number_list = [int(num.strip()) for num in user_input.split(\",\")]\n",
        "    except ValueError:\n",
        "        print(\"❌ Invalid input! Please enter integers only.\")\n",
        "        return\n",
        "\n",
        "    doubled = double_numbers(number_list)\n",
        "    print(f\"✅ Doubled numbers: {doubled}\")\n",
        "\n",
        "if __name__ == \"__main__\":\n",
        "    main()\n",
        ""
      ],
      "metadata": {
        "colab": {
          "base_uri": "https://localhost:8080/"
        },
        "id": "SGMYYBnFF2vx",
        "outputId": "02ce777a-fc37-4acb-fcb4-74c25394b05e"
      },
      "execution_count": 5,
      "outputs": [
        {
          "output_type": "stream",
          "name": "stdout",
          "text": [
            "04_double\n",
            "Enter numbers separated by commas to double them:\n",
            "→ 2,4,6,8\n",
            "✅ Doubled numbers: [4, 8, 12, 16]\n"
          ]
        }
      ]
    },
    {
      "cell_type": "code",
      "source": [
        "print(\"05_get_name\")\n",
        "\n",
        "def get_name():\n",
        "    name = input(\"👋 What's your name? → \").strip()\n",
        "\n",
        "    if not name:\n",
        "        print(\"⚠️ You didn't enter a name!\")\n",
        "    else:\n",
        "        print(f\"🎉 Hello, {name}! Nice to meet you!\")\n",
        "\n",
        "def main():\n",
        "    get_name()\n",
        "\n",
        "if __name__ == \"__main__\":\n",
        "    main()"
      ],
      "metadata": {
        "colab": {
          "base_uri": "https://localhost:8080/"
        },
        "id": "JNFvrvLCGEV9",
        "outputId": "cd63522b-d390-40a7-cf7e-4d36d396ba06"
      },
      "execution_count": 6,
      "outputs": [
        {
          "output_type": "stream",
          "name": "stdout",
          "text": [
            "05_get_name\n",
            "👋 What's your name? → Kulsoom\n",
            "🎉 Hello, Kulsoom! Nice to meet you!\n"
          ]
        }
      ]
    },
    {
      "cell_type": "code",
      "source": [
        "print(\"06_is_odd\")\n",
        "\n",
        "def is_odd(number):\n",
        "    return number % 2 != 0\n",
        "\n",
        "def main():\n",
        "    try:\n",
        "        num = int(input(\"🔢 Enter a number to check if it's odd: → \"))\n",
        "    except ValueError:\n",
        "        print(\"❌ Invalid input! Please enter a valid integer.\")\n",
        "        return\n",
        "\n",
        "    if is_odd(num):\n",
        "        print(f\"✅ {num} is an odd number.\")\n",
        "    else:\n",
        "        print(f\"❌ {num} is not an odd number (it's even).\")\n",
        "\n",
        "if __name__ == \"__main__\":\n",
        "    main()"
      ],
      "metadata": {
        "colab": {
          "base_uri": "https://localhost:8080/"
        },
        "id": "pIq-_H6FGMl-",
        "outputId": "6142abf3-ed77-4650-a86c-66f0c18e42b6"
      },
      "execution_count": 7,
      "outputs": [
        {
          "output_type": "stream",
          "name": "stdout",
          "text": [
            "06_is_odd\n",
            "🔢 Enter a number to check if it's odd: → 45\n",
            "✅ 45 is an odd number.\n"
          ]
        }
      ]
    },
    {
      "cell_type": "code",
      "source": [
        "print(\"07_print_divisor\")\n",
        "\n",
        "def print_divisors(n):\n",
        "    print(f\"🔍 Divisors of {n} are:\")\n",
        "    for i in range(1, n + 1):\n",
        "        if n % i == 0:\n",
        "            print(f\"➤ {i}\")\n",
        "\n",
        "def main():\n",
        "    try:\n",
        "        num = int(input(\"🔢 Enter a number to find its divisors: → \"))\n",
        "        if num <= 0:\n",
        "            print(\"⚠️ Please enter a positive integer greater than 0.\")\n",
        "            return\n",
        "    except ValueError:\n",
        "        print(\"❌ Invalid input! Please enter a valid number.\")\n",
        "        return\n",
        "\n",
        "    print_divisors(num)\n",
        "\n",
        "if __name__ == \"__main__\":\n",
        "    main()"
      ],
      "metadata": {
        "colab": {
          "base_uri": "https://localhost:8080/"
        },
        "id": "dw6H9YHGGYZQ",
        "outputId": "e010aab7-d373-4724-e278-718146389166"
      },
      "execution_count": 8,
      "outputs": [
        {
          "output_type": "stream",
          "name": "stdout",
          "text": [
            "07_print_divisor\n",
            "🔢 Enter a number to find its divisors: → 25\n",
            "🔍 Divisors of 25 are:\n",
            "➤ 1\n",
            "➤ 5\n",
            "➤ 25\n"
          ]
        }
      ]
    },
    {
      "cell_type": "code",
      "source": [
        "print(\"08_print_multiple\")\n",
        "\n",
        "def print_multiples(n, count):\n",
        "    print(f\"🧮 First {count} multiples of {n} are:\")\n",
        "    for i in range(1, count + 1):\n",
        "        print(f\"➤ {n} × {i} = {n * i}\")\n",
        "\n",
        "def main():\n",
        "    try:\n",
        "        num = int(input(\"🔢 Enter a number to find its multiples: → \"))\n",
        "        count = int(input(\"🔁 How many multiples do you want to see? → \"))\n",
        "        if num <= 0 or count <= 0:\n",
        "            print(\"⚠️ Please enter positive numbers only.\")\n",
        "            return\n",
        "    except ValueError:\n",
        "        print(\"❌ Invalid input! Please enter integers only.\")\n",
        "        return\n",
        "\n",
        "    print_multiples(num, count)\n",
        "\n",
        "if __name__ == \"__main__\":\n",
        "    main()"
      ],
      "metadata": {
        "colab": {
          "base_uri": "https://localhost:8080/"
        },
        "id": "NvXXKctyGktW",
        "outputId": "b03f60cb-eadb-4998-9a90-f65431ee4014"
      },
      "execution_count": 9,
      "outputs": [
        {
          "output_type": "stream",
          "name": "stdout",
          "text": [
            "08_print_multiple\n",
            "🔢 Enter a number to find its multiples: → 3\n",
            "🔁 How many multiples do you want to see? → 12\n",
            "🧮 First 12 multiples of 3 are:\n",
            "➤ 3 × 1 = 3\n",
            "➤ 3 × 2 = 6\n",
            "➤ 3 × 3 = 9\n",
            "➤ 3 × 4 = 12\n",
            "➤ 3 × 5 = 15\n",
            "➤ 3 × 6 = 18\n",
            "➤ 3 × 7 = 21\n",
            "➤ 3 × 8 = 24\n",
            "➤ 3 × 9 = 27\n",
            "➤ 3 × 10 = 30\n",
            "➤ 3 × 11 = 33\n",
            "➤ 3 × 12 = 36\n"
          ]
        }
      ]
    },
    {
      "cell_type": "code",
      "source": [
        "print(\"09_sentence_generator\")\n",
        "# Word lists\n",
        "nouns = [\"cat\", \"boy\", \"girl\", \"dog\", \"robot\"]\n",
        "verbs = [\"eats\", \"plays with\", \"runs to\", \"looks at\", \"builds\"]\n",
        "places = [\"the park\", \"school\", \"home\", \"the moon\", \"a castle\"]\n",
        "\n",
        "def generate_sentence():\n",
        "    noun = random.choice(nouns)\n",
        "    verb = random.choice(verbs)\n",
        "    place = random.choice(places)\n",
        "    return f\"The {noun} {verb} {place}.\"\n",
        "\n",
        "def main():\n",
        "    try:\n",
        "        count = int(input(\"📄 How many sentences do you want to generate? → \"))\n",
        "        if count <= 0:\n",
        "            print(\"⚠️ Please enter a positive number.\")\n",
        "            return\n",
        "    except ValueError:\n",
        "        print(\"❌ Invalid input! Please enter a valid number.\")\n",
        "        return\n",
        "\n",
        "    print(\"\\n📝 Generated Sentences:\")\n",
        "    for _ in range(count):\n",
        "        print(\"➤\", generate_sentence())\n",
        "\n",
        "if __name__ == \"__main__\":\n",
        "    main()"
      ],
      "metadata": {
        "colab": {
          "base_uri": "https://localhost:8080/"
        },
        "id": "fL4Kd1dOG7aY",
        "outputId": "1696c121-e6d1-48e2-9baa-11d407579c4f"
      },
      "execution_count": 10,
      "outputs": [
        {
          "output_type": "stream",
          "name": "stdout",
          "text": [
            "09_sentence_generator\n",
            "📄 How many sentences do you want to generate? → 4\n",
            "\n",
            "📝 Generated Sentences:\n",
            "➤ The cat runs to the moon.\n",
            "➤ The girl eats the moon.\n",
            "➤ The cat builds the park.\n",
            "➤ The girl plays with school.\n"
          ]
        }
      ]
    },
    {
      "cell_type": "code",
      "source": [
        "print(\"10_print_ones_digit\")\n",
        "\n",
        "def get_ones_digit(number):\n",
        "    return abs(number) % 10  # Negative number handle karne ke liye abs()\n",
        "\n",
        "def main():\n",
        "    try:\n",
        "        num = int(input(\"🔢 Enter a number: → \"))\n",
        "    except ValueError:\n",
        "        print(\"❌ Please enter a valid integer.\")\n",
        "        return\n",
        "\n",
        "    ones_digit = get_ones_digit(num)\n",
        "    print(f\"🧮 The ones digit of {num} is: {ones_digit}\")\n",
        "\n",
        "if __name__ == \"__main__\":\n",
        "    main()"
      ],
      "metadata": {
        "colab": {
          "base_uri": "https://localhost:8080/"
        },
        "id": "tXAZlXTvHLWX",
        "outputId": "aa53e26d-b0ff-4ad7-ff6f-f54c221c5423"
      },
      "execution_count": 11,
      "outputs": [
        {
          "output_type": "stream",
          "name": "stdout",
          "text": [
            "10_print_ones_digit\n",
            "🔢 Enter a number: → 42205\n",
            "🧮 The ones digit of 42205 is: 5\n"
          ]
        }
      ]
    }
  ]
}