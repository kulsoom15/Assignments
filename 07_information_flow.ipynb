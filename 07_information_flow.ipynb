{
  "nbformat": 4,
  "nbformat_minor": 0,
  "metadata": {
    "colab": {
      "provenance": [],
      "authorship_tag": "ABX9TyO2YadUckUSaKTQGdF3NtmV",
      "include_colab_link": true
    },
    "kernelspec": {
      "name": "python3",
      "display_name": "Python 3"
    },
    "language_info": {
      "name": "python"
    }
  },
  "cells": [
    {
      "cell_type": "markdown",
      "metadata": {
        "id": "view-in-github",
        "colab_type": "text"
      },
      "source": [
        "<a href=\"https://colab.research.google.com/github/kulsoom15/Assignments/blob/main/07_information_flow.ipynb\" target=\"_parent\"><img src=\"https://colab.research.google.com/assets/colab-badge.svg\" alt=\"Open In Colab\"/></a>"
      ]
    },
    {
      "cell_type": "code",
      "execution_count": 1,
      "metadata": {
        "colab": {
          "base_uri": "https://localhost:8080/"
        },
        "id": "5YSTKbnCHl4W",
        "outputId": "4bb87a4d-e889-46ca-dbce-f96ec65cebe2"
      },
      "outputs": [
        {
          "output_type": "stream",
          "name": "stdout",
          "text": [
            "00_choosing_returns\n",
            "Choose one of the following options: A, B, C\n",
            "Enter your choice: → B\n",
            "You chose option B\n"
          ]
        }
      ],
      "source": [
        "print(\"00_choosing_returns\")\n",
        "\n",
        "def choose_return(option):\n",
        "    if option == \"A\":\n",
        "        return \"You chose option A\"\n",
        "    elif option == \"B\":\n",
        "        return \"You chose option B\"\n",
        "    elif option == \"C\":\n",
        "        return \"You chose option C\"\n",
        "    else:\n",
        "        return \"Invalid option. Please choose A, B, or C.\"\n",
        "\n",
        "def main():\n",
        "    print(\"Choose one of the following options: A, B, C\")\n",
        "    option = input(\"Enter your choice: → \")\n",
        "\n",
        "    result = choose_return(option)\n",
        "    print(result)\n",
        "\n",
        "if __name__ == \"__main__\":\n",
        "    main()\n"
      ]
    },
    {
      "cell_type": "code",
      "source": [
        "\n",
        "print(\"01_greetings\")\n",
        "\n",
        "def greet(name):\n",
        "    return f\"Hello, {name}! Welcome to the program.\"\n",
        "\n",
        "def main():\n",
        "    name = input(\"Please enter your name: → \")\n",
        "    greeting_message = greet(name)\n",
        "    print(greeting_message)\n",
        "\n",
        "if __name__ == \"__main__\":\n",
        "    main()"
      ],
      "metadata": {
        "colab": {
          "base_uri": "https://localhost:8080/"
        },
        "id": "2HYCWa_gH52s",
        "outputId": "3e2e7551-9096-4732-f27c-08b447c24283"
      },
      "execution_count": 2,
      "outputs": [
        {
          "output_type": "stream",
          "name": "stdout",
          "text": [
            "01_greetings\n",
            "Please enter your name: → Kulsoom\n",
            "Hello, Kulsoom! Welcome to the program.\n"
          ]
        }
      ]
    },
    {
      "cell_type": "code",
      "source": [
        "print(\"02_in_range\")\n",
        "\n",
        "def is_in_range(number, start, end):\n",
        "    if start <= number <= end:\n",
        "        return True\n",
        "    else:\n",
        "        return False\n",
        "\n",
        "def main():\n",
        "    try:\n",
        "        num = int(input(\"🔢 Enter a number: → \"))\n",
        "        start = int(input(\"Enter the start of the range: → \"))\n",
        "        end = int(input(\"Enter the end of the range: → \"))\n",
        "    except ValueError:\n",
        "        print(\"❌ Please enter valid integers.\")\n",
        "        return\n",
        "\n",
        "    if is_in_range(num, start, end):\n",
        "        print(f\"✅ {num} is within the range of {start} and {end}.\")\n",
        "    else:\n",
        "        print(f\"❌ {num} is not within the range of {start} and {end}.\")\n",
        "\n",
        "if __name__ == \"__main__\":\n",
        "    main()"
      ],
      "metadata": {
        "colab": {
          "base_uri": "https://localhost:8080/"
        },
        "id": "JOkBQXgYH2So",
        "outputId": "ca31a796-8df8-4528-e1f0-b517e4e4e75f"
      },
      "execution_count": 3,
      "outputs": [
        {
          "output_type": "stream",
          "name": "stdout",
          "text": [
            "02_in_range\n",
            "🔢 Enter a number: → 30\n",
            "Enter the start of the range: → 1\n",
            "Enter the end of the range: → 50\n",
            "✅ 30 is within the range of 1 and 50.\n"
          ]
        }
      ]
    },
    {
      "cell_type": "code",
      "source": [
        "print(\"03_in_stock\")\n",
        "\n",
        "def is_in_stock(product, stock):\n",
        "    if product in stock and stock[product] > 0:\n",
        "        return True\n",
        "    else:\n",
        "        return False\n",
        "\n",
        "def main():\n",
        "    stock = {\n",
        "        \"apple\": 10,\n",
        "        \"banana\": 3,\n",
        "        \"orange\": 2,\n",
        "        \"mango\": 0\n",
        "    }\n",
        "\n",
        "    product = input(\"Enter the product name to check its stock: → \").lower()\n",
        "\n",
        "    if is_in_stock(product, stock):\n",
        "        print(f\"✅ {product.capitalize()} is in stock!\")\n",
        "    else:\n",
        "        print(f\"❌ {product.capitalize()} is not in stock.\")\n",
        "\n",
        "if __name__ == \"__main__\":\n",
        "    main()"
      ],
      "metadata": {
        "colab": {
          "base_uri": "https://localhost:8080/"
        },
        "id": "w0Yo0kN8IP0A",
        "outputId": "cf96bde3-7ff3-4a10-d2e0-2ec7b3ea9069"
      },
      "execution_count": 6,
      "outputs": [
        {
          "output_type": "stream",
          "name": "stdout",
          "text": [
            "03_in_stock\n",
            "Enter the product name to check its stock: → banana\n",
            "✅ Banana is in stock!\n"
          ]
        }
      ]
    },
    {
      "cell_type": "code",
      "source": [
        "print(\"04_multiple_returns\")\n",
        "\n",
        "import math\n",
        "\n",
        "def analyze_number(number):\n",
        "    square = number ** 2\n",
        "    cube = number ** 3\n",
        "    square_root = math.sqrt(number)\n",
        "\n",
        "    return square, cube, square_root\n",
        "\n",
        "def main():\n",
        "    try:\n",
        "        num = float(input(\"🔢 Enter a number: → \"))\n",
        "    except ValueError:\n",
        "        print(\"❌ Please enter a valid number.\")\n",
        "        return\n",
        "\n",
        "    square, cube, square_root = analyze_number(num)\n",
        "\n",
        "    print(f\"✅ The square of {num} is: {square}\")\n",
        "    print(f\"✅ The cube of {num} is: {cube}\")\n",
        "    print(f\"✅ The square root of {num} is: {square_root:.2f}\")\n",
        "\n",
        "if __name__ == \"__main__\":\n",
        "    main()"
      ],
      "metadata": {
        "colab": {
          "base_uri": "https://localhost:8080/"
        },
        "id": "JeyrZ09QIm__",
        "outputId": "0058df8a-0ebe-4c02-c0c8-b4421e858735"
      },
      "execution_count": 7,
      "outputs": [
        {
          "output_type": "stream",
          "name": "stdout",
          "text": [
            "04_multiple_returns\n",
            "🔢 Enter a number: → 9\n",
            "✅ The square of 9.0 is: 81.0\n",
            "✅ The cube of 9.0 is: 729.0\n",
            "✅ The square root of 9.0 is: 3.00\n"
          ]
        }
      ]
    },
    {
      "cell_type": "code",
      "source": [
        "print(\"05_subtract_7\")\n",
        "\n",
        "def subtract_seven(number):\n",
        "    return number - 7\n",
        "\n",
        "def main():\n",
        "    try:\n",
        "        num = float(input(\"🔢 Enter a number: → \"))\n",
        "    except ValueError:\n",
        "        print(\"❌ Please enter a valid number.\")\n",
        "        return\n",
        "\n",
        "    result = subtract_seven(num)\n",
        "    print(f\"✅ After subtracting 7, the result is: {result}\")\n",
        "\n",
        "if __name__ == \"__main__\":\n",
        "    main()"
      ],
      "metadata": {
        "colab": {
          "base_uri": "https://localhost:8080/"
        },
        "id": "KJc71f6LIwQq",
        "outputId": "527bb627-b7db-4c6c-a6f2-a893df5d295d"
      },
      "execution_count": 8,
      "outputs": [
        {
          "output_type": "stream",
          "name": "stdout",
          "text": [
            "05_subtract_7\n",
            "🔢 Enter a number: → 29\n",
            "✅ After subtracting 7, the result is: 22.0\n"
          ]
        }
      ]
    }
  ]
}