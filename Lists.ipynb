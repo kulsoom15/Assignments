{
  "nbformat": 4,
  "nbformat_minor": 0,
  "metadata": {
    "colab": {
      "provenance": [],
      "authorship_tag": "ABX9TyOpmeODRXRpV+r8tWc0ewGx",
      "include_colab_link": true
    },
    "kernelspec": {
      "name": "python3",
      "display_name": "Python 3"
    },
    "language_info": {
      "name": "python"
    }
  },
  "cells": [
    {
      "cell_type": "markdown",
      "metadata": {
        "id": "view-in-github",
        "colab_type": "text"
      },
      "source": [
        "<a href=\"https://colab.research.google.com/github/kulsoom15/Assignments/blob/main/Lists.ipynb\" target=\"_parent\"><img src=\"https://colab.research.google.com/assets/colab-badge.svg\" alt=\"Open In Colab\"/></a>"
      ]
    },
    {
      "cell_type": "code",
      "execution_count": 1,
      "metadata": {
        "colab": {
          "base_uri": "https://localhost:8080/"
        },
        "id": "4kEKOBCh6hyi",
        "outputId": "d52a9929-0a03-4e42-aa72-3414f91a9441"
      },
      "outputs": [
        {
          "output_type": "stream",
          "name": "stdout",
          "text": [
            "01_add_even_numbers_only\n",
            "12\n"
          ]
        }
      ],
      "source": [
        "print(\"01_add_even_numbers_only\")\n",
        "\n",
        "def add_even_numbers(numbers: list[int]) -> int:\n",
        "    total: int = 0\n",
        "    for n in numbers:\n",
        "        if n % 2 == 0:\n",
        "            total += n\n",
        "    return total\n",
        "\n",
        "def main():\n",
        "    numbers: list[int] = [1, 2, 3, 4, 5, 6]\n",
        "    result: int = add_even_numbers(numbers)\n",
        "    print(result)\n",
        "\n",
        "if __name__ == \"__main__\":\n",
        "    main()"
      ]
    },
    {
      "cell_type": "code",
      "source": [
        "print(\"02_double_each_number\")\n",
        "\n",
        "def double_numbers(numbers: list[int]) -> list[int]:\n",
        "    result: list[int] = []\n",
        "    for n in numbers:\n",
        "        result.append(n * 2)\n",
        "    return result\n",
        "\n",
        "def main():\n",
        "    numbers: list[int] = [1, 2, 3, 4]\n",
        "    doubled: list[int] = double_numbers(numbers)\n",
        "    print(doubled)\n",
        "\n",
        "if __name__ == \"__main__\":\n",
        "    main()\n"
      ],
      "metadata": {
        "colab": {
          "base_uri": "https://localhost:8080/"
        },
        "id": "hu6Ya7JS7mtr",
        "outputId": "a504ab9e-90e9-4acc-8019-1fd1988d6984"
      },
      "execution_count": 2,
      "outputs": [
        {
          "output_type": "stream",
          "name": "stdout",
          "text": [
            "02_double_each_number\n",
            "[2, 4, 6, 8]\n"
          ]
        }
      ]
    },
    {
      "cell_type": "code",
      "source": [
        "print(\"04_flowing_with_data_structures\")\n",
        "\n",
        "def add_three_copies(lst: list, data):\n",
        "    for _ in range(3):\n",
        "        lst.append(data)\n",
        "\n",
        "def main():\n",
        "    message = input(\"Enter a message to copy: \")\n",
        "    my_list: list = []\n",
        "\n",
        "    print(\"List before:\", my_list)\n",
        "    add_three_copies(my_list, message)\n",
        "    print(\"List after:\", my_list)\n",
        "\n",
        "if __name__ == \"__main__\":\n",
        "    main()\n"
      ],
      "metadata": {
        "colab": {
          "base_uri": "https://localhost:8080/"
        },
        "id": "HzZFM-6c8Qhl",
        "outputId": "63f0e30b-aab8-4043-decc-af9a420461a2"
      },
      "execution_count": 3,
      "outputs": [
        {
          "output_type": "stream",
          "name": "stdout",
          "text": [
            "04_flowing_with_data_structures\n",
            "Enter a message to copy: Hi World\n",
            "List before: []\n",
            "List after: ['Hi World', 'Hi World', 'Hi World']\n"
          ]
        }
      ]
    },
    {
      "cell_type": "code",
      "source": [
        "print(\"05_get_first_element\")\n",
        "\n",
        "def get_first_element(lst: list):\n",
        "    print(\"First element:\", lst[0])\n",
        "\n",
        "def main():\n",
        "    num_elements = int(input(\"How many elements in the list? \"))\n",
        "    my_list: list = []\n",
        "\n",
        "    for i in range(num_elements):\n",
        "        item = input(f\"Enter element #{i + 1}: \")\n",
        "        my_list.append(item)\n",
        "\n",
        "    get_first_element(my_list)\n",
        "\n",
        "if __name__ == \"__main__\":\n",
        "    main()\n"
      ],
      "metadata": {
        "colab": {
          "base_uri": "https://localhost:8080/"
        },
        "id": "GpjiKsau8odg",
        "outputId": "f5d62c00-67dc-4f44-f3ea-a4fb43ba7ec2"
      },
      "execution_count": 5,
      "outputs": [
        {
          "output_type": "stream",
          "name": "stdout",
          "text": [
            "05_get_first_element\n",
            "How many elements in the list? 2\n",
            "Enter element #1: strawberry\n",
            "Enter element #2: grapes\n",
            "First element: strawberry\n"
          ]
        }
      ]
    },
    {
      "cell_type": "code",
      "source": [
        "print(\"06_get_last_element\")\n",
        "\n",
        "def get_last_element(lst: list):\n",
        "    print(\"Last element:\", lst[-1])\n",
        "\n",
        "def main():\n",
        "    num_elements = int(input(\"How many elements in the list? \"))\n",
        "    my_list: list = []\n",
        "\n",
        "    for i in range(num_elements):\n",
        "        item = input(f\"Enter element #{i + 1}: \")\n",
        "        my_list.append(item)\n",
        "\n",
        "    get_last_element(my_list)\n",
        "\n",
        "if __name__ == \"__main__\":\n",
        "    main()\n"
      ],
      "metadata": {
        "colab": {
          "base_uri": "https://localhost:8080/"
        },
        "id": "8XjWXveZ89XU",
        "outputId": "2255e272-ac89-4309-8c42-c66320106c4d"
      },
      "execution_count": 6,
      "outputs": [
        {
          "output_type": "stream",
          "name": "stdout",
          "text": [
            "06_get_last_element\n",
            "How many elements in the list? 4\n",
            "Enter element #1: red\n",
            "Enter element #2: blue\n",
            "Enter element #3: orange\n",
            "Enter element #4: yellow\n",
            "Last element: yellow\n"
          ]
        }
      ]
    },
    {
      "cell_type": "code",
      "source": [
        "print(\"07_collect_values_until_empty\")\n",
        "\n",
        "def main():\n",
        "    values: list = []\n",
        "\n",
        "    while True:\n",
        "        user_input = input(\"Enter a value: \")\n",
        "        if user_input == \"\":\n",
        "            break\n",
        "        values.append(user_input)\n",
        "\n",
        "    print(\"Here's the list:\", values)\n",
        "\n",
        "if __name__ == \"__main__\":\n",
        "    main()\n"
      ],
      "metadata": {
        "colab": {
          "base_uri": "https://localhost:8080/"
        },
        "id": "NSH8Sbp89RW7",
        "outputId": "1c8882c0-b2db-4439-d7c3-a2c8885c85b9"
      },
      "execution_count": 7,
      "outputs": [
        {
          "output_type": "stream",
          "name": "stdout",
          "text": [
            "07_collect_values_until_empty\n",
            "Enter a value: 2\n",
            "Enter a value: 4\n",
            "Enter a value: 6\n",
            "Enter a value: 8\n",
            "Enter a value: 10\n",
            "Enter a value: \n",
            "Here's the list: ['2', '4', '6', '8', '10']\n"
          ]
        }
      ]
    },
    {
      "cell_type": "code",
      "source": [
        "print(\"08_shorten_list_to_max_length\")\n",
        "\n",
        "MAX_LENGTH = 3\n",
        "\n",
        "def shorten(lst: list):\n",
        "    while len(lst) > MAX_LENGTH:\n",
        "        removed = lst.pop()\n",
        "        print(\"Removed:\", removed)\n",
        "\n",
        "def main():\n",
        "    num_elements = int(input(\"How many elements in the list? \"))\n",
        "    my_list: list = []\n",
        "\n",
        "    for i in range(num_elements):\n",
        "        item = input(f\"Enter element #{i + 1}: \")\n",
        "        my_list.append(item)\n",
        "\n",
        "    print(\"Original list:\", my_list)\n",
        "    shorten(my_list)\n",
        "    print(\"Shortened list:\", my_list)\n",
        "\n",
        "if __name__ == \"__main__\":\n",
        "    main()\n"
      ],
      "metadata": {
        "colab": {
          "base_uri": "https://localhost:8080/"
        },
        "id": "Peq0nH959nkz",
        "outputId": "dfef6189-c109-403b-c378-4638e03acd34"
      },
      "execution_count": 8,
      "outputs": [
        {
          "output_type": "stream",
          "name": "stdout",
          "text": [
            "08_shorten_list_to_max_length\n",
            "How many elements in the list? 5\n",
            "Enter element #1: 1\n",
            "Enter element #2: 3\n",
            "Enter element #3: 5\n",
            "Enter element #4: 7\n",
            "Enter element #5: 9\n",
            "Original list: ['1', '3', '5', '7', '9']\n",
            "Removed: 9\n",
            "Removed: 7\n",
            "Shortened list: ['1', '3', '5']\n"
          ]
        }
      ]
    }
  ]
}