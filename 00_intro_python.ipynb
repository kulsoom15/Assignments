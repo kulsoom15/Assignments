{
  "nbformat": 4,
  "nbformat_minor": 0,
  "metadata": {
    "colab": {
      "provenance": [],
      "authorship_tag": "ABX9TyN4VR+TRgLWzvYkJP5GwEx6",
      "include_colab_link": true
    },
    "kernelspec": {
      "name": "python3",
      "display_name": "Python 3"
    },
    "language_info": {
      "name": "python"
    }
  },
  "cells": [
    {
      "cell_type": "markdown",
      "metadata": {
        "id": "view-in-github",
        "colab_type": "text"
      },
      "source": [
        "<a href=\"https://colab.research.google.com/github/kulsoom15/Assignments/blob/main/00_intro_python.ipynb\" target=\"_parent\"><img src=\"https://colab.research.google.com/assets/colab-badge.svg\" alt=\"Open In Colab\"/></a>"
      ]
    },
    {
      "cell_type": "code",
      "execution_count": 1,
      "metadata": {
        "colab": {
          "base_uri": "https://localhost:8080/"
        },
        "id": "I-3_gG7PN0qe",
        "outputId": "e56a4636-d370-4c51-8766-c2e30406d579"
      },
      "outputs": [
        {
          "output_type": "stream",
          "name": "stdout",
          "text": [
            "01_add_two_numbers\n",
            "This application for add two numbers\n",
            "Enter your first number. 10\n",
            "Enter your second nunber. 4\n",
            "The total sum of 10 and 4 is 14\n"
          ]
        }
      ],
      "source": [
        "print(\"01_add_two_numbers\")\n",
        "\n",
        "def add():\n",
        "  print(\"This application for add two numbers\")\n",
        "  first_number = int(input(\"Enter your first number. \"))\n",
        "  second_number = int(input(\"Enter your second nunber. \"))\n",
        "  total = int(first_number + second_number)\n",
        "  print(f'The total sum of {first_number} and {second_number} is {total}')\n",
        "\n",
        "if __name__ == \"__main__\":\n",
        "  add()"
      ]
    },
    {
      "cell_type": "code",
      "source": [
        "print(\"02_agreement_bot\")\n",
        "\n",
        "def bot():\n",
        "    color = str(input(\"What is your favorite color? \"))\n",
        "    print(f'My favorite color is also {color}!')\n",
        "\n",
        "if __name__ == \"__main__\":\n",
        "    bot()"
      ],
      "metadata": {
        "colab": {
          "base_uri": "https://localhost:8080/"
        },
        "id": "K4LoLAoUPguf",
        "outputId": "93dcb490-9853-46d9-9380-4218c877a096"
      },
      "execution_count": 2,
      "outputs": [
        {
          "output_type": "stream",
          "name": "stdout",
          "text": [
            "02_agreement_bot\n",
            "What is your favorite color? blue\n",
            "My favorite color is also blue!\n"
          ]
        }
      ]
    },
    {
      "cell_type": "code",
      "source": [
        "print(\"03_fahrenheit_to_celsius\")\n",
        "def fahrenheit_to_celsius():\n",
        "\n",
        "    fahrenheit = float(input(\"Enter temperature in Fahrenheit: \"))\n",
        "\n",
        "    celsius = (fahrenheit - 32) * 5.0 / 9.0\n",
        "\n",
        "    print(f\"Temperature: {fahrenheit}F = {celsius}C\")\n",
        "\n",
        "fahrenheit_to_celsius()\n"
      ],
      "metadata": {
        "colab": {
          "base_uri": "https://localhost:8080/"
        },
        "id": "cqS_FmfWQT9Z",
        "outputId": "faf6d82d-3cac-439b-8451-cedc2a3cfcd5"
      },
      "execution_count": 4,
      "outputs": [
        {
          "output_type": "stream",
          "name": "stdout",
          "text": [
            "03_fahrenheit_to_celsius\n",
            "Enter temperature in Fahrenheit: 100\n",
            "Temperature: 100.0F = 37.77777777777778C\n"
          ]
        }
      ]
    },
    {
      "cell_type": "code",
      "source": [
        "print(\"04_how_old_are_they\")\n",
        "def solve_age_riddle():\n",
        "    Anton = 10\n",
        "    Beth = Anton + 4\n",
        "    Chen = Beth + 8\n",
        "    Drew = Chen + Anton\n",
        "    Ethan = Chen\n",
        "\n",
        "    print(f\"Anton is {Anton} years old.\")\n",
        "    print(f\"Beth is {Beth} years old.\")\n",
        "    print(f\"Chen is {Chen} years old.\")\n",
        "    print(f\"Drew is {Drew} years old.\")\n",
        "    print(f\"Ethan is {Ethan} years old.\")\n",
        "\n",
        "\n",
        "solve_age_riddle()"
      ],
      "metadata": {
        "colab": {
          "base_uri": "https://localhost:8080/"
        },
        "id": "sLuqUo12Q299",
        "outputId": "00d5965c-0fa0-420b-9ff4-0ad33522db3d"
      },
      "execution_count": 5,
      "outputs": [
        {
          "output_type": "stream",
          "name": "stdout",
          "text": [
            "04_how_old_are_they\n",
            "Anton is 10 years old.\n",
            "Beth is 14 years old.\n",
            "Chen is 22 years old.\n",
            "Drew is 32 years old.\n",
            "Ethan is 22 years old.\n"
          ]
        }
      ]
    },
    {
      "cell_type": "code",
      "source": [
        "print(\"05_triangle_perimeter.\")\n",
        "def calculate_perimeter():\n",
        "    side1 = float(input(\"What is the length of side 1? \"))\n",
        "    side2 = float(input(\"What is the length of side 2? \"))\n",
        "    side3 = float(input(\"What is the length of side 3? \"))\n",
        "\n",
        "    perimeter = side1 + side2 + side3\n",
        "\n",
        "    print(f\"The perimeter of the triangle is {perimeter}\")\n",
        "\n",
        "calculate_perimeter()\n"
      ],
      "metadata": {
        "colab": {
          "base_uri": "https://localhost:8080/"
        },
        "id": "_k0TqQFURaL8",
        "outputId": "78d55ca7-e132-415d-b99b-78d02655c656"
      },
      "execution_count": 6,
      "outputs": [
        {
          "output_type": "stream",
          "name": "stdout",
          "text": [
            "05_triangle_perimeter.\n",
            "What is the length of side 1? 4\n",
            "What is the length of side 2? 7\n",
            "What is the length of side 3? 3\n",
            "The perimeter of the triangle is 14.0\n"
          ]
        }
      ]
    },
    {
      "cell_type": "code",
      "source": [
        "print(\"06_square_number\")\n",
        "def calculate_square():\n",
        "\n",
        "    number = float(input(\"Type a number to see its square: \"))\n",
        "\n",
        "\n",
        "    square = number * number\n",
        "\n",
        "\n",
        "    print(f\"{number} squared is {square}\")\n",
        "\n",
        "\n",
        "calculate_square()\n"
      ],
      "metadata": {
        "colab": {
          "base_uri": "https://localhost:8080/"
        },
        "id": "WAuoXoKjSJqv",
        "outputId": "d4c1adec-1d35-4519-ecc2-17c715efc4db"
      },
      "execution_count": 7,
      "outputs": [
        {
          "output_type": "stream",
          "name": "stdout",
          "text": [
            "06_square_number\n",
            "Type a number to see its square: 8\n",
            "8.0 squared is 64.0\n"
          ]
        }
      ]
    }
  ]
}